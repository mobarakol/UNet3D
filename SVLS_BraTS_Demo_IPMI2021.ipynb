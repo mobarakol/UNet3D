{
  "nbformat": 4,
  "nbformat_minor": 0,
  "metadata": {
    "accelerator": "GPU",
    "colab": {
      "name": "SVLS_BraTS_Demo_IPMI2021.ipynb",
      "provenance": [],
      "collapsed_sections": [],
      "include_colab_link": true
    },
    "kernelspec": {
      "display_name": "Python 3",
      "name": "python3"
    }
  },
  "cells": [
    {
      "cell_type": "markdown",
      "metadata": {
        "id": "view-in-github",
        "colab_type": "text"
      },
      "source": [
        "<a href=\"https://colab.research.google.com/github/mobarakol/UNet3D/blob/main/SVLS_BraTS_Demo_IPMI2021.ipynb\" target=\"_parent\"><img src=\"https://colab.research.google.com/assets/colab-badge.svg\" alt=\"Open In Colab\"/></a>"
      ]
    },
    {
      "cell_type": "markdown",
      "metadata": {
        "id": "AQ5MCVytMBzZ"
      },
      "source": [
        "## Spatially Varying Label Smoothing: Capturing Uncertainty from Expert Annotations"
      ]
    },
    {
      "cell_type": "code",
      "metadata": {
        "colab": {
          "base_uri": "https://localhost:8080/"
        },
        "id": "xFNfvBfdKsT7",
        "outputId": "9df19b63-1e6a-42ad-abe7-34af97ab9597"
      },
      "source": [
        "!rm -rf UNet3D\n",
        "!git clone https://github.com/mobarakol/UNet3D.git\n",
        "%cd UNet3D"
      ],
      "execution_count": 1,
      "outputs": [
        {
          "output_type": "stream",
          "text": [
            "Cloning into 'UNet3D'...\n",
            "remote: Enumerating objects: 49, done.\u001b[K\n",
            "remote: Counting objects: 100% (49/49), done.\u001b[K\n",
            "remote: Compressing objects: 100% (37/37), done.\u001b[K\n",
            "remote: Total 49 (delta 20), reused 28 (delta 9), pack-reused 0\u001b[K\n",
            "Unpacking objects: 100% (49/49), done.\n",
            "/content/UNet3D\n"
          ],
          "name": "stdout"
        }
      ]
    },
    {
      "cell_type": "markdown",
      "metadata": {
        "id": "QZNhk4-Od3FR"
      },
      "source": [
        "Install require packages:"
      ]
    },
    {
      "cell_type": "code",
      "metadata": {
        "colab": {
          "base_uri": "https://localhost:8080/"
        },
        "id": "JdbUhZNUd6kl",
        "outputId": "ddcb075f-ad09-4c83-c43d-1fcef0d833a1"
      },
      "source": [
        "!pip install -U -q SimpleITK"
      ],
      "execution_count": 2,
      "outputs": [
        {
          "output_type": "stream",
          "text": [
            "\u001b[K     |████████████████████████████████| 47.4MB 61kB/s \n",
            "\u001b[?25h"
          ],
          "name": "stdout"
        }
      ]
    },
    {
      "cell_type": "markdown",
      "metadata": {
        "id": "FBq96oSpM7Da"
      },
      "source": [
        "### Download Dataset and Trained Models"
      ]
    },
    {
      "cell_type": "code",
      "metadata": {
        "id": "keDB9x0yNH4J"
      },
      "source": [
        "!pip install -U -q PyDrive\n",
        "from pydrive.auth import GoogleAuth\n",
        "from pydrive.drive import GoogleDrive\n",
        "from google.colab import auth\n",
        "from oauth2client.client import GoogleCredentials\n",
        "\n",
        "# Authenticate and create the PyDrive client.\n",
        "auth.authenticate_user()\n",
        "gauth = GoogleAuth()\n",
        "gauth.credentials = GoogleCredentials.get_application_default()\n",
        "drive = GoogleDrive(gauth)"
      ],
      "execution_count": 3,
      "outputs": []
    },
    {
      "cell_type": "markdown",
      "metadata": {
        "id": "zgGSo3tNNwaF"
      },
      "source": [
        "Trained Models: https://drive.google.com/file/d/1evE2VqBGdY-0VPB8OeArHMPdRXhWuxFm/view?usp=sharing <br>\n",
        "Validation Data: https://drive.google.com/file/d/1oZ9z-l9lBjKGNZCCTK819Z1ufwe90mg3/view?usp=sharing"
      ]
    },
    {
      "cell_type": "code",
      "metadata": {
        "id": "lhX7jTGxNxEr"
      },
      "source": [
        "ids = ['1evE2VqBGdY-0VPB8OeArHMPdRXhWuxFm', '1oZ9z-l9lBjKGNZCCTK819Z1ufwe90mg3']\n",
        "zip_files = ['ckpt_brats19.zip','train_valid.zip']\n",
        "for id, zip_file in zip(ids, zip_files):\n",
        "    downloaded = drive.CreateFile({'id':id}) \n",
        "    downloaded.GetContentFile(zip_file)\n",
        "    !unzip -q $zip_file"
      ],
      "execution_count": 4,
      "outputs": []
    },
    {
      "cell_type": "markdown",
      "metadata": {
        "id": "m0PdKAYPWBx8"
      },
      "source": [
        "Demo"
      ]
    },
    {
      "cell_type": "code",
      "metadata": {
        "colab": {
          "base_uri": "https://localhost:8080/",
          "height": 466
        },
        "id": "DgJq1eOoWDE1",
        "outputId": "61e2a0fe-0304-4ff7-8f23-259b6583a934"
      },
      "source": [
        "%matplotlib inline\n",
        "import matplotlib.pyplot as plt\n",
        "import os\n",
        "import numpy as np\n",
        "import random\n",
        "import argparse\n",
        "import torch\n",
        "from torch.autograd import Variable\n",
        "from torch.utils.data import DataLoader\n",
        "import torch.optim as optim\n",
        "import torch.nn.functional as F\n",
        "from dataset_brats import dataset_brats19\n",
        "from model import UNet3D\n",
        "from utils import dice_3D, seed_everything, worker_init_fn, EDiceLoss\n",
        "from calibration_metrics import ece_eval, tace_eval, reliability_diagram\n",
        "import warnings\n",
        "warnings.filterwarnings(\"ignore\")\n",
        "device = 'cuda' if torch.cuda.is_available() else 'cpu'\n",
        "\n",
        "\n",
        "def step_valid(data_loader, model, metric):\n",
        "    ece_all, acc_all, conf_all, Bm_all, tace_all = [], [], [], [], []\n",
        "    losses, metrics, metrics_sd = [], [], []\n",
        "    model.eval()\n",
        "    for i, batch in enumerate(data_loader):\n",
        "        inputs, targets,_ = batch\n",
        "        targets = targets.squeeze().cuda(non_blocking=True)\n",
        "        inputs = inputs.float().cuda()\n",
        "        segs = model(inputs)\n",
        "        outputs = F.softmax(segs, dim=1).detach().cpu().numpy()\n",
        "        if len(targets.shape) < 4:#if batch size=1\n",
        "            targets = targets.unsqueeze(0)\n",
        "        labels = targets.detach().cpu().numpy()\n",
        "        \n",
        "        ece, acc, conf, Bm = ece_eval(outputs,labels)\n",
        "        tace, _, _, _ = tace_eval(outputs,labels)\n",
        "        ece_all.append(ece)\n",
        "        acc_all.append(acc)\n",
        "        conf_all.append(conf)\n",
        "        Bm_all.append(Bm)\n",
        "        tace_all.append(tace)\n",
        "        segs = segs.data.max(1)[1].squeeze_(1)\n",
        "        metric_ = metric.metric_brats(segs, targets)\n",
        "        metrics_sd.extend(metric.get_surface_dice(segs.detach().cpu().numpy(), targets.detach().cpu().numpy()))\n",
        "        metrics.extend(metric_)\n",
        "\n",
        "    ece_avg = np.stack(ece_all).mean(0)\n",
        "    acc_avg = np.stack(acc_all).mean(0)\n",
        "    conf_avg = np.stack(conf_all).mean(0)\n",
        "    Bm_avg = np.stack(Bm_all).mean(0)\n",
        "    tace_avg = np.stack(tace_all).mean(0)\n",
        "    return metrics, metrics_sd, ece_avg, acc_avg, conf_avg, Bm_avg, tace_avg\n",
        "\n",
        "def main():\n",
        "    parser = argparse.ArgumentParser(description='Brats Training')\n",
        "    parser.add_argument('--num_classes', default=4, type=int, help=\"num of classes\")\n",
        "    parser.add_argument('--in_channels', default=4, type=int, help=\"num of classes\")\n",
        "    parser.add_argument('--batch_size', default=2, type=int,help='mini-batch size')\n",
        "    parser.add_argument('--lr', default=1e-4, type=float,help='initial learning rate')\n",
        "    parser.add_argument('--crop_xy', default=192, type=int, help=\"crop dimension in x and y\")\n",
        "    parser.add_argument('--crop_z', default=128, type=int, help=\"crop dimension in z\")\n",
        "    parser.add_argument('--init_xy', default=24, type=int, help=\"initial position of x and y\")\n",
        "    parser.add_argument('--init_z', default=17, type=int, help=\"initial position of z\")\n",
        "    parser.add_argument('--data_root', default='', help='data root')\n",
        "    parser.add_argument('--sd_tolerance', default=[1,2], type=int, help=\"Surface dice tolerance\")\n",
        "    parser.add_argument('--spacing_mm', default=(1,1,1), type=int, help=\"Surface dice spacing\")\n",
        "    parser.add_argument('--ckpt_dir', default='ckpt_brats19/', help='data root')\n",
        "    args = parser.parse_args(args=[])\n",
        "\n",
        "    dataset_valid = dataset_brats19(args=args, isTrain=False)\n",
        "    valid_loader = DataLoader(dataset=dataset_valid, batch_size=args.batch_size, shuffle=False, num_workers=2,\n",
        "                               worker_init_fn=worker_init_fn)\n",
        "    \n",
        "    print('Length of dataset- valid:', dataset_valid.__len__())\n",
        "    model = UNet3D(in_channels=args.in_channels, out_channels=args.num_classes, isSoftmax=False).to(device)\n",
        "    model = torch.nn.parallel.DataParallel(model)\n",
        "    criterion_dice = EDiceLoss().to(device)\n",
        "    metric = criterion_dice.metric_brats\n",
        "    legends = ['OH', 'LS(0.1)', 'LS(0.2)', 'LS(0.3)', 'SVLS']\n",
        "    model_list = ['best_oh.pth.tar', 'best_ls0.1.pth.tar', 'best_ls0.2.pth.tar', 'best_ls0.3.pth.tar', 'best_svls.pth.tar']\n",
        "    for model_name, legend in zip(model_list, legends):\n",
        "        model.load_state_dict(torch.load(args.ckpt_dir + str(model_name)))\n",
        "        model.eval()\n",
        "        with torch.no_grad():\n",
        "            dice_metrics, metrics_sd, ece_avg, acc_avg, conf_avg, Bm_avg, tace_avg = step_valid(valid_loader, model, criterion_dice)\n",
        "        if legend != 'LS(0.3)':\n",
        "            reliability_diagram(conf_avg, acc_avg, legend=legend)\n",
        "        dice_metrics = list(zip(*dice_metrics))\n",
        "        dice_metrics = [torch.tensor(dice, device=\"cpu\").numpy() for dice in dice_metrics]\n",
        "        avg_dices = np.mean(dice_metrics,1)\n",
        "        avg_std = np.std(dice_metrics,1)\n",
        "\n",
        "        metrics_sd = list(zip(*metrics_sd))\n",
        "        metrics_sd = [torch.tensor(dice, device=\"cpu\").numpy() for dice in metrics_sd]\n",
        "        avg_sd = np.mean(metrics_sd,1)\n",
        "        avg_std_sd = np.std(metrics_sd,1)\n",
        "\n",
        "        print('model:%s , dice[ET:%.3f ± %.3f, TC:%.3f ± %.3f, WT:%.3f ± %.3f], ECE:%.4f, TACE:%.4f'%(\n",
        "            model_name, avg_dices[0],avg_std[0], avg_dices[1],avg_std[1], avg_dices[2],avg_std[2], ece_avg, tace_avg))\n",
        "        \n",
        "        print('model:%s , Surface dice[ET:%.3f ± %.3f, TC:%.3f ± %.3f, WT:%.3f ± %.3f]'%(\n",
        "            model_name, avg_sd[0],avg_std_sd[0], avg_sd[1],avg_std_sd[1], avg_sd[2],avg_std_sd[2]))\n",
        "\n",
        "if __name__ == '__main__':\n",
        "    seed_everything()\n",
        "    main()"
      ],
      "execution_count": 6,
      "outputs": [
        {
          "output_type": "stream",
          "text": [
            "Length of dataset- valid: 66\n",
            "model:best_oh.pth.tar , dice[ET:0.802 ± 0.180, TC:0.862 ± 0.126, WT:0.892 ± 0.074], ECE:0.0732, TACE:0.0041\n",
            "model:best_oh.pth.tar , Surface dice[ET:0.916 ± 0.197, TC:0.862 ± 0.179, WT:0.894 ± 0.151]\n",
            "model:best_ls0.1.pth.tar , dice[ET:0.825 ± 0.154, TC:0.873 ± 0.130, WT:0.893 ± 0.070], ECE:0.0646, TACE:0.0025\n",
            "model:best_ls0.1.pth.tar , Surface dice[ET:0.935 ± 0.167, TC:0.891 ± 0.168, WT:0.913 ± 0.119]\n",
            "model:best_ls0.2.pth.tar , dice[ET:0.804 ± 0.177, TC:0.863 ± 0.131, WT:0.896 ± 0.064], ECE:0.0958, TACE:0.0049\n",
            "model:best_ls0.2.pth.tar , Surface dice[ET:0.929 ± 0.183, TC:0.881 ± 0.179, WT:0.912 ± 0.120]\n",
            "model:best_ls0.3.pth.tar , dice[ET:0.788 ± 0.209, TC:0.858 ± 0.163, WT:0.893 ± 0.068], ECE:0.1459, TACE:0.0073\n",
            "model:best_ls0.3.pth.tar , Surface dice[ET:0.914 ± 0.194, TC:0.872 ± 0.190, WT:0.920 ± 0.113]\n",
            "model:best_svls.pth.tar , dice[ET:0.816 ± 0.135, TC:0.862 ± 0.119, WT:0.894 ± 0.065], ECE:0.0630, TACE:0.0040\n",
            "model:best_svls.pth.tar , Surface dice[ET:0.937 ± 0.158, TC:0.880 ± 0.163, WT:0.940 ± 0.086]\n"
          ],
          "name": "stdout"
        },
        {
          "output_type": "display_data",
          "data": {
            "image/png": "[encoded data removed]",
            "text/plain": [
              "<Figure size 432x288 with 1 Axes>"
            ]
          },
          "metadata": {
            "tags": [],
            "needs_background": "light"
          }
        }
      ]
    }
  ]
}